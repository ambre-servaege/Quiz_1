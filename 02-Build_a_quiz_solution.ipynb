{
 "cells": [
  {
   "cell_type": "markdown",
   "metadata": {},
   "source": [
    "# Build a quiz"
   ]
  },
  {
   "cell_type": "code",
   "execution_count": 3,
   "metadata": {
    "tags": []
   },
   "outputs": [
    {
     "name": "stdout",
     "output_type": "stream",
     "text": [
      "Welcome to our quizz!\n",
      "You have 3 lives.\n",
      "\n",
      "Question 1:\n",
      "Your answer : 2\n",
      "Question 2:\n",
      "Your answer : 1976\n",
      "Question 3:\n",
      "Your answer : elon musk\n",
      "Well done, you have win!\n"
     ]
    }
   ],
   "source": [
    "lives = 3\n",
    "\n",
    "print(\"Welcome to our quizz!\")\n",
    "print(\"You have 3 lives.\")\n",
    "print()\n",
    "\n",
    "# Question 1 if lives > 0\n",
    "print(\"Question 1:\")\n",
    "question1= input(\"How many times France soccer team won the World Cup?\")\n",
    "print('Your answer : {}'.format(question1))\n",
    "\n",
    "while question1 != \"2\":\n",
    "    lives -= 1 # same as lives = lives - 1\n",
    "    print(\"Sorry, you have {} chances left\".format(lives))\n",
    "    if lives == 0:\n",
    "        print(\"Oh no, you lost the quiz...\")\n",
    "        break\n",
    "    question1= input(\"How many times France soccer team won the World Cup?\")\n",
    "    print('Your answer : {}'.format(question1))\n",
    "\n",
    "\n",
    "# Question 2 if lives > 0\n",
    "if lives > 0:\n",
    "    print(\"Question 2:\")\n",
    "    question2 = input(\"When Apple was founded?\")\n",
    "    print('Your answer : {}'.format(question2))\n",
    "    while question2 != \"1976\":\n",
    "        lives -=1\n",
    "        print(\"Sorry, you have {} chances left\".format(lives))\n",
    "        if lives == 0:\n",
    "            print(\"Oh no, you lost the quiz...\")\n",
    "            break\n",
    "        question2 = input(\"When Apple was founded?\")\n",
    "        print('Your answer : {}'.format(question2))\n",
    "\n",
    "\n",
    "# Question 3 if lives > 0\n",
    "if lives > 0:\n",
    "    print(\"Question 3:\")\n",
    "    question3 = input(\"Who founded SpaceX?\")\n",
    "    question3 = question3.lower()\n",
    "    print(\"Your answer : {}\".format(question3))\n",
    "    while question3 != \"elon musk\":\n",
    "        lives -=1\n",
    "        print(\"Sorry, you have {} chances left\".format(lives))\n",
    "        if lives == 0:\n",
    "            print(\"Oh no, you lost the quiz...\")\n",
    "            break\n",
    "        question3 = input(\"Who founded SpaceX?\")\n",
    "        question3 = question3.lower()\n",
    "        print(\"Your answer : {}\".format(question3))\n",
    "\n",
    "if lives > 0:\n",
    "    print(\"Well done, you have win!\")"
   ]
  }
 ],
 "metadata": {
  "kernelspec": {
   "display_name": "Python 3.8.6 64-bit",
   "metadata": {
    "interpreter": {
     "hash": "aee8b7b246df8f9039afb4144a1f6fd8d2ca17a180786b69acc140d282b71a49"
    }
   },
   "name": "Python 3.8.6 64-bit"
  },
  "language_info": {
   "codemirror_mode": {
    "name": "ipython",
    "version": 3
   },
   "file_extension": ".py",
   "mimetype": "text/x-python",
   "name": "python",
   "nbconvert_exporter": "python",
   "pygments_lexer": "ipython3",
   "version": "3.8.6-final"
  },
  "orig_nbformat": 2
 },
 "nbformat": 4,
 "nbformat_minor": 2
}
