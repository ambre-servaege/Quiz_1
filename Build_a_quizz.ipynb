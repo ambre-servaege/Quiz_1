nb_of_chances = 3

print("here is our beautiful quiz!")

if nb_of_chances > 0:
    question1= input("How many times France won the Soccer World Cup?")
    while question1 != "2":
        nb_of_chances -= 1
        print("Dang, wrong answer 😓... You still have {} chances left".format(nb_of_chances))
        if nb_of_chances == 0:
            print("Oh no! It's game over 💥")
            break
        question1 = input("How many times France won the Soccer World Cup?")

if nb_of_chances > 0:
    question2 = input("When was Apple founded?")
    while question2 != "1976":
        nb_of_chances -=1
        print("Dang, wrong answer 😓... You still have {} chances left".format(nb_of_chances))
        if nb_of_chances == 0:
            print("Oh no! It's game over 💥")
            break
        question2 = input("When was Apple founded?")


if nb_of_chances > 0:
    question3 = input("Who founded SpaceX?")
    question3 = question3.lower()
    while question3 != "elon musk":
        nb_of_chances -=1
        print("Dang, wrong answer 😓... You still have {} chances left".format(nb_of_chances))
        if nb_of_chances == 0:
            print("Oh no! It's game over 💥")
            break
        question3 = input("Who founded SpaceX?")
        question3 = question3.lower()

if nb_of_chances > 0:
    print("🥳 Congratulations, you've won the quiz 🥳")
